{
  "nbformat": 4,
  "nbformat_minor": 0,
  "metadata": {
    "colab": {
      "provenance": [],
      "include_colab_link": true
    },
    "kernelspec": {
      "name": "python3",
      "display_name": "Python 3"
    }
  },
  "cells": [
    {
      "cell_type": "markdown",
      "metadata": {
        "id": "view-in-github",
        "colab_type": "text"
      },
      "source": [
        "<a href=\"https://colab.research.google.com/github/LuizVaccaro/Projetos-Data-Science/blob/main/Analisando_os_Dados_do_Airbnb_(Hawaii)_.ipynb\" target=\"_parent\"><img src=\"https://colab.research.google.com/assets/colab-badge.svg\" alt=\"Open In Colab\"/></a>"
      ]
    },
    {
      "cell_type": "markdown",
      "metadata": {
        "id": "kLI0gJtzDGuQ"
      },
      "source": [
        "<img alt=\"Colaboratory logo\" width=\"15%\" src=\"https://raw.githubusercontent.com/carlosfab/escola-data-science/master/img/novo_logo_bg_claro.png\">\n",
        "\n",
        "#### **Data Science na Prática 3.0**\n",
        "*by [sigmoidal.ai](https://sigmoidal.ai)*\n",
        "\n",
        "---\n",
        "\n",
        "# Análise dos Dados do Airbnb - *Hawaii*\n",
        "\n",
        "O [Airbnb](https://www.airbnb.com.br/) já é considerado como sendo a **maior empresa hoteleira da atualidade**. Ah, o detalhe é que ele **não possui nenhum hotel**!\n",
        "\n",
        "Conectando pessoas que querem viajar (e se hospedar) com anfitriões que querem alugar seus imóveis de maneira prática, o Airbnb fornece uma plataforma inovadora para tornar essa hospedagem alternativa.\n",
        "\n",
        "No final de 2018, a Startup fundada 10 anos atrás, já havia **hospedado mais de 300 milhões** de pessoas ao redor de todo o mundo, desafiando as redes hoteleiras tradicionais.\n",
        "\n",
        "Uma das iniciativas do Airbnb é disponibilizar dados do site, para algumas das principais cidades do mundo. Por meio do portal [Inside Airbnb](http://insideairbnb.com/get-the-data.html), é possível baixar uma grande quantidade de dados para desenvolver projetos e soluções de *Data Science*.\n",
        "\n",
        "<center><img alt=\"Analisando Airbnb\" width=\"10%\" src=\"https://www.area360.com.au/wp-content/uploads/2017/09/airbnb-logo.jpg\"></center>\n",
        "\n",
        "**Neste *notebook*, iremos analisar os dados referentes as ilhas do Hawaii, e ver quais insights podem ser extraídos a partir de dados brutos.**"
      ]
    },
    {
      "cell_type": "markdown",
      "metadata": {
        "id": "0zxQHhIUDF_2"
      },
      "source": [
        "## Obtenção dos Dados\n"
      ]
    },
    {
      "cell_type": "code",
      "metadata": {
        "id": "Vhp2wMPgJ6zX"
      },
      "source": [
        "# importar os pacotes necessarios\n",
        "import pandas as pd\n",
        "import matplotlib.pyplot as plt\n",
        "import seaborn as sns\n",
        "\n",
        "%matplotlib inline"
      ],
      "execution_count": null,
      "outputs": []
    },
    {
      "cell_type": "code",
      "metadata": {
        "id": "tUmoAT8DLQ5T"
      },
      "source": [
        "# importar o arquivo listings.csv para um DataFrame\n",
        "df = pd.read_csv(\"http://data.insideairbnb.com/united-states/hi/hawaii/2022-09-12/visualisations/listings.csv\", index_col = 'id') "
      ],
      "execution_count": null,
      "outputs": []
    },
    {
      "cell_type": "markdown",
      "metadata": {
        "id": "qb5By2nIMS6m"
      },
      "source": [
        "## Análise dos Dados\n"
      ]
    },
    {
      "cell_type": "markdown",
      "metadata": {
        "id": "RYgvuebKNg8-"
      },
      "source": [
        "**Dicionário das variáveis**\n",
        "\n",
        "* Id --> ID do anúncio\n",
        "* Name --> Nome do anúncio  \n",
        "* Host_id --> ID do usuário, identificação númerica do usuário\n",
        "* Host_name --> Nome do anfitrião\n",
        "* Neighbourhood_group --> Nesta análise refere-se a ilha onde se encontra a propriedade\n",
        "* Neighbourhood --> Bairro\n",
        "* Latitude --> Cordenada de latitude da propriedade\n",
        "* Longitude --> Cordenada de longitude da propriedade\n",
        "* Room_type --> Tipo de acomodação \n",
        "* Price --> Preço de aluguel do local\n",
        "* Minimum_nights --> Quantidade miníma de noites\n",
        "* Number_of_reviews --> Número de avaliações do anúncio\n",
        "* Reviews_per_month -- > Número de avaliações por mês\n",
        "* Last_review --> Data da última avaliação\n",
        "* Calculated_host_listings_count --> Quantidade de imóveis do mesmo anfitrião\n",
        "* License --> Licenças \n",
        "* Availability_365 --> Número de dias de disponibilidade dentro de 365 dias\n",
        "\n",
        "\n",
        "Antes de iniciar qualquer análise, vamos verificar a cara do nosso *dataset*, analisando as 5 primeiras entradas."
      ]
    },
    {
      "cell_type": "code",
      "metadata": {
        "id": "2iS_dae7YQtO",
        "colab": {
          "base_uri": "https://localhost:8080/",
          "height": 648
        },
        "outputId": "a3557649-5eed-4b7a-dc0c-93d68fa28ef8"
      },
      "source": [
        "# mostrar as 5 primeiras entradas\n",
        "df.head()"
      ],
      "execution_count": null,
      "outputs": [
        {
          "output_type": "execute_result",
          "data": {
            "text/plain": [
              "                                                      name    host_id  \\\n",
              "id                                                                      \n",
              "5269             Upcountry Hospitality in the 'Auwai Suite       7620   \n",
              "34843927                          Simply Paradise Glamping  262664392   \n",
              "35066424     Spacious 3 Bedroom 3 Bath + Loft at Alii Cove  264152810   \n",
              "35067513  Noah’s Hideaway Maui, Luxury B&B, Walk to Beach!  264162605   \n",
              "5387                   Hale Koa Studio & 1 Bedroom Units!!       7878   \n",
              "\n",
              "                  host_name neighbourhood_group neighbourhood  latitude  \\\n",
              "id                                                                        \n",
              "5269              Lea & Pat              Hawaii  South Kohala  20.02740   \n",
              "34843927  Adriano And Julia              Hawaii    North Kona  19.66220   \n",
              "35066424              Robyn              Hawaii    North Kona  19.62768   \n",
              "35067513               Fadi                Maui       Lahaina  20.91764   \n",
              "5387                 Edward              Hawaii    South Kona  19.43081   \n",
              "\n",
              "          longitude        room_type  price  minimum_nights  \\\n",
              "id                                                            \n",
              "5269     -155.70200  Entire home/apt    149               5   \n",
              "34843927 -155.95681     Private room     83               1   \n",
              "35066424 -155.98543  Entire home/apt    175              30   \n",
              "35067513 -156.68840  Entire home/apt    622               1   \n",
              "5387     -155.88069  Entire home/apt     91               5   \n",
              "\n",
              "          number_of_reviews last_review  reviews_per_month  \\\n",
              "id                                                           \n",
              "5269                     24  2022-07-13               0.17   \n",
              "34843927                194  2022-08-25               5.90   \n",
              "35066424                  2  2022-02-19               0.25   \n",
              "35067513                 70  2022-06-24               1.80   \n",
              "5387                    201  2022-09-03               1.31   \n",
              "\n",
              "          calculated_host_listings_count  availability_365  \\\n",
              "id                                                           \n",
              "5269                                   3               212   \n",
              "34843927                               3               334   \n",
              "35066424                               1               197   \n",
              "35067513                               2               191   \n",
              "5387                                   3               166   \n",
              "\n",
              "          number_of_reviews_ltm                           license  \n",
              "id                                                                 \n",
              "5269                         10                  119-269-5808-01R  \n",
              "34843927                     96                               NaN  \n",
              "35066424                      2                               NaN  \n",
              "35067513                      5  440090330000, TA-197-216-9216-01  \n",
              "5387                         19                               NaN  "
            ],
            "text/html": [
              "\n",
              "  <div id=\"df-e0d7bf46-fb9f-42af-8a75-d18dcc83aa0f\">\n",
              "    <div class=\"colab-df-container\">\n",
              "      <div>\n",
              "<style scoped>\n",
              "    .dataframe tbody tr th:only-of-type {\n",
              "        vertical-align: middle;\n",
              "    }\n",
              "\n",
              "    .dataframe tbody tr th {\n",
              "        vertical-align: top;\n",
              "    }\n",
              "\n",
              "    .dataframe thead th {\n",
              "        text-align: right;\n",
              "    }\n",
              "</style>\n",
              "<table border=\"1\" class=\"dataframe\">\n",
              "  <thead>\n",
              "    <tr style=\"text-align: right;\">\n",
              "      <th></th>\n",
              "      <th>name</th>\n",
              "      <th>host_id</th>\n",
              "      <th>host_name</th>\n",
              "      <th>neighbourhood_group</th>\n",
              "      <th>neighbourhood</th>\n",
              "      <th>latitude</th>\n",
              "      <th>longitude</th>\n",
              "      <th>room_type</th>\n",
              "      <th>price</th>\n",
              "      <th>minimum_nights</th>\n",
              "      <th>number_of_reviews</th>\n",
              "      <th>last_review</th>\n",
              "      <th>reviews_per_month</th>\n",
              "      <th>calculated_host_listings_count</th>\n",
              "      <th>availability_365</th>\n",
              "      <th>number_of_reviews_ltm</th>\n",
              "      <th>license</th>\n",
              "    </tr>\n",
              "    <tr>\n",
              "      <th>id</th>\n",
              "      <th></th>\n",
              "      <th></th>\n",
              "      <th></th>\n",
              "      <th></th>\n",
              "      <th></th>\n",
              "      <th></th>\n",
              "      <th></th>\n",
              "      <th></th>\n",
              "      <th></th>\n",
              "      <th></th>\n",
              "      <th></th>\n",
              "      <th></th>\n",
              "      <th></th>\n",
              "      <th></th>\n",
              "      <th></th>\n",
              "      <th></th>\n",
              "      <th></th>\n",
              "    </tr>\n",
              "  </thead>\n",
              "  <tbody>\n",
              "    <tr>\n",
              "      <th>5269</th>\n",
              "      <td>Upcountry Hospitality in the 'Auwai Suite</td>\n",
              "      <td>7620</td>\n",
              "      <td>Lea &amp; Pat</td>\n",
              "      <td>Hawaii</td>\n",
              "      <td>South Kohala</td>\n",
              "      <td>20.02740</td>\n",
              "      <td>-155.70200</td>\n",
              "      <td>Entire home/apt</td>\n",
              "      <td>149</td>\n",
              "      <td>5</td>\n",
              "      <td>24</td>\n",
              "      <td>2022-07-13</td>\n",
              "      <td>0.17</td>\n",
              "      <td>3</td>\n",
              "      <td>212</td>\n",
              "      <td>10</td>\n",
              "      <td>119-269-5808-01R</td>\n",
              "    </tr>\n",
              "    <tr>\n",
              "      <th>34843927</th>\n",
              "      <td>Simply Paradise Glamping</td>\n",
              "      <td>262664392</td>\n",
              "      <td>Adriano And Julia</td>\n",
              "      <td>Hawaii</td>\n",
              "      <td>North Kona</td>\n",
              "      <td>19.66220</td>\n",
              "      <td>-155.95681</td>\n",
              "      <td>Private room</td>\n",
              "      <td>83</td>\n",
              "      <td>1</td>\n",
              "      <td>194</td>\n",
              "      <td>2022-08-25</td>\n",
              "      <td>5.90</td>\n",
              "      <td>3</td>\n",
              "      <td>334</td>\n",
              "      <td>96</td>\n",
              "      <td>NaN</td>\n",
              "    </tr>\n",
              "    <tr>\n",
              "      <th>35066424</th>\n",
              "      <td>Spacious 3 Bedroom 3 Bath + Loft at Alii Cove</td>\n",
              "      <td>264152810</td>\n",
              "      <td>Robyn</td>\n",
              "      <td>Hawaii</td>\n",
              "      <td>North Kona</td>\n",
              "      <td>19.62768</td>\n",
              "      <td>-155.98543</td>\n",
              "      <td>Entire home/apt</td>\n",
              "      <td>175</td>\n",
              "      <td>30</td>\n",
              "      <td>2</td>\n",
              "      <td>2022-02-19</td>\n",
              "      <td>0.25</td>\n",
              "      <td>1</td>\n",
              "      <td>197</td>\n",
              "      <td>2</td>\n",
              "      <td>NaN</td>\n",
              "    </tr>\n",
              "    <tr>\n",
              "      <th>35067513</th>\n",
              "      <td>Noah’s Hideaway Maui, Luxury B&amp;B, Walk to Beach!</td>\n",
              "      <td>264162605</td>\n",
              "      <td>Fadi</td>\n",
              "      <td>Maui</td>\n",
              "      <td>Lahaina</td>\n",
              "      <td>20.91764</td>\n",
              "      <td>-156.68840</td>\n",
              "      <td>Entire home/apt</td>\n",
              "      <td>622</td>\n",
              "      <td>1</td>\n",
              "      <td>70</td>\n",
              "      <td>2022-06-24</td>\n",
              "      <td>1.80</td>\n",
              "      <td>2</td>\n",
              "      <td>191</td>\n",
              "      <td>5</td>\n",
              "      <td>440090330000, TA-197-216-9216-01</td>\n",
              "    </tr>\n",
              "    <tr>\n",
              "      <th>5387</th>\n",
              "      <td>Hale Koa Studio &amp; 1 Bedroom Units!!</td>\n",
              "      <td>7878</td>\n",
              "      <td>Edward</td>\n",
              "      <td>Hawaii</td>\n",
              "      <td>South Kona</td>\n",
              "      <td>19.43081</td>\n",
              "      <td>-155.88069</td>\n",
              "      <td>Entire home/apt</td>\n",
              "      <td>91</td>\n",
              "      <td>5</td>\n",
              "      <td>201</td>\n",
              "      <td>2022-09-03</td>\n",
              "      <td>1.31</td>\n",
              "      <td>3</td>\n",
              "      <td>166</td>\n",
              "      <td>19</td>\n",
              "      <td>NaN</td>\n",
              "    </tr>\n",
              "  </tbody>\n",
              "</table>\n",
              "</div>\n",
              "      <button class=\"colab-df-convert\" onclick=\"convertToInteractive('df-e0d7bf46-fb9f-42af-8a75-d18dcc83aa0f')\"\n",
              "              title=\"Convert this dataframe to an interactive table.\"\n",
              "              style=\"display:none;\">\n",
              "        \n",
              "  <svg xmlns=\"http://www.w3.org/2000/svg\" height=\"24px\"viewBox=\"0 0 24 24\"\n",
              "       width=\"24px\">\n",
              "    <path d=\"M0 0h24v24H0V0z\" fill=\"none\"/>\n",
              "    <path d=\"M18.56 5.44l.94 2.06.94-2.06 2.06-.94-2.06-.94-.94-2.06-.94 2.06-2.06.94zm-11 1L8.5 8.5l.94-2.06 2.06-.94-2.06-.94L8.5 2.5l-.94 2.06-2.06.94zm10 10l.94 2.06.94-2.06 2.06-.94-2.06-.94-.94-2.06-.94 2.06-2.06.94z\"/><path d=\"M17.41 7.96l-1.37-1.37c-.4-.4-.92-.59-1.43-.59-.52 0-1.04.2-1.43.59L10.3 9.45l-7.72 7.72c-.78.78-.78 2.05 0 2.83L4 21.41c.39.39.9.59 1.41.59.51 0 1.02-.2 1.41-.59l7.78-7.78 2.81-2.81c.8-.78.8-2.07 0-2.86zM5.41 20L4 18.59l7.72-7.72 1.47 1.35L5.41 20z\"/>\n",
              "  </svg>\n",
              "      </button>\n",
              "      \n",
              "  <style>\n",
              "    .colab-df-container {\n",
              "      display:flex;\n",
              "      flex-wrap:wrap;\n",
              "      gap: 12px;\n",
              "    }\n",
              "\n",
              "    .colab-df-convert {\n",
              "      background-color: #E8F0FE;\n",
              "      border: none;\n",
              "      border-radius: 50%;\n",
              "      cursor: pointer;\n",
              "      display: none;\n",
              "      fill: #1967D2;\n",
              "      height: 32px;\n",
              "      padding: 0 0 0 0;\n",
              "      width: 32px;\n",
              "    }\n",
              "\n",
              "    .colab-df-convert:hover {\n",
              "      background-color: #E2EBFA;\n",
              "      box-shadow: 0px 1px 2px rgba(60, 64, 67, 0.3), 0px 1px 3px 1px rgba(60, 64, 67, 0.15);\n",
              "      fill: #174EA6;\n",
              "    }\n",
              "\n",
              "    [theme=dark] .colab-df-convert {\n",
              "      background-color: #3B4455;\n",
              "      fill: #D2E3FC;\n",
              "    }\n",
              "\n",
              "    [theme=dark] .colab-df-convert:hover {\n",
              "      background-color: #434B5C;\n",
              "      box-shadow: 0px 1px 3px 1px rgba(0, 0, 0, 0.15);\n",
              "      filter: drop-shadow(0px 1px 2px rgba(0, 0, 0, 0.3));\n",
              "      fill: #FFFFFF;\n",
              "    }\n",
              "  </style>\n",
              "\n",
              "      <script>\n",
              "        const buttonEl =\n",
              "          document.querySelector('#df-e0d7bf46-fb9f-42af-8a75-d18dcc83aa0f button.colab-df-convert');\n",
              "        buttonEl.style.display =\n",
              "          google.colab.kernel.accessAllowed ? 'block' : 'none';\n",
              "\n",
              "        async function convertToInteractive(key) {\n",
              "          const element = document.querySelector('#df-e0d7bf46-fb9f-42af-8a75-d18dcc83aa0f');\n",
              "          const dataTable =\n",
              "            await google.colab.kernel.invokeFunction('convertToInteractive',\n",
              "                                                     [key], {});\n",
              "          if (!dataTable) return;\n",
              "\n",
              "          const docLinkHtml = 'Like what you see? Visit the ' +\n",
              "            '<a target=\"_blank\" href=https://colab.research.google.com/notebooks/data_table.ipynb>data table notebook</a>'\n",
              "            + ' to learn more about interactive tables.';\n",
              "          element.innerHTML = '';\n",
              "          dataTable['output_type'] = 'display_data';\n",
              "          await google.colab.output.renderOutput(dataTable, element);\n",
              "          const docLink = document.createElement('div');\n",
              "          docLink.innerHTML = docLinkHtml;\n",
              "          element.appendChild(docLink);\n",
              "        }\n",
              "      </script>\n",
              "    </div>\n",
              "  </div>\n",
              "  "
            ]
          },
          "metadata": {},
          "execution_count": 26
        }
      ]
    },
    {
      "cell_type": "markdown",
      "metadata": {
        "id": "6-B_qtEaYEd-"
      },
      "source": [
        "### **Q1. Quantos atributos (variáveis) e quantas entradas o nosso conjunto de dados possui? Quais os tipos das variáveis?**"
      ]
    },
    {
      "cell_type": "code",
      "metadata": {
        "id": "TFRK0tniLV-G",
        "colab": {
          "base_uri": "https://localhost:8080/",
          "height": 423
        },
        "outputId": "51ed84c1-98be-42f0-ad94-a9316f4c3794"
      },
      "source": [
        "# identificar o volume de dados do DataFrame\n",
        "print ('\\033[1m''Volume Dataset:''\\033[0m')\n",
        "print (\"Variáveis:\" , df.shape[1])\n",
        "print ('Entradas:', df.shape[0])\n",
        "\n",
        "# verificar as 5 primeiras entradas do dataset\n",
        "print ('\\033[1m', 'Identificando o Tipo de Cada Coluna:', '\\033[0m')\n",
        "display(df.dtypes)"
      ],
      "execution_count": null,
      "outputs": [
        {
          "output_type": "stream",
          "name": "stdout",
          "text": [
            "\u001b[1mVolume Dataset:\u001b[0m\n",
            "Variáveis: 17\n",
            "Entradas: 28580\n",
            "\u001b[1m Identificando o Tipo de Cada Coluna: \u001b[0m\n"
          ]
        },
        {
          "output_type": "display_data",
          "data": {
            "text/plain": [
              "name                               object\n",
              "host_id                             int64\n",
              "host_name                          object\n",
              "neighbourhood_group                object\n",
              "neighbourhood                      object\n",
              "latitude                          float64\n",
              "longitude                         float64\n",
              "room_type                          object\n",
              "price                               int64\n",
              "minimum_nights                      int64\n",
              "number_of_reviews                   int64\n",
              "last_review                        object\n",
              "reviews_per_month                 float64\n",
              "calculated_host_listings_count      int64\n",
              "availability_365                    int64\n",
              "number_of_reviews_ltm               int64\n",
              "license                            object\n",
              "dtype: object"
            ]
          },
          "metadata": {}
        }
      ]
    },
    {
      "cell_type": "markdown",
      "metadata": {
        "id": "yz1urSUGW9iE"
      },
      "source": [
        "### **Q2. Qual a porcentagem de valores ausentes no *dataset*?**"
      ]
    },
    {
      "cell_type": "code",
      "metadata": {
        "id": "plk2FjbCXOqP",
        "colab": {
          "base_uri": "https://localhost:8080/"
        },
        "outputId": "ae014071-d0fa-4bb1-c426-9b035f6a9343"
      },
      "source": [
        "# ordenar em ordem decrescente as variáveis por seus valores ausentes\n",
        "(df.isnull().sum() / df.shape[0]*100).sort_values(ascending=False)"
      ],
      "execution_count": null,
      "outputs": [
        {
          "output_type": "execute_result",
          "data": {
            "text/plain": [
              "reviews_per_month                 19.380686\n",
              "last_review                       19.380686\n",
              "license                           16.462561\n",
              "host_name                          0.468859\n",
              "minimum_nights                     0.000000\n",
              "number_of_reviews_ltm              0.000000\n",
              "availability_365                   0.000000\n",
              "calculated_host_listings_count     0.000000\n",
              "number_of_reviews                  0.000000\n",
              "name                               0.000000\n",
              "host_id                            0.000000\n",
              "room_type                          0.000000\n",
              "longitude                          0.000000\n",
              "latitude                           0.000000\n",
              "neighbourhood                      0.000000\n",
              "neighbourhood_group                0.000000\n",
              "price                              0.000000\n",
              "dtype: float64"
            ]
          },
          "metadata": {},
          "execution_count": 28
        }
      ]
    },
    {
      "cell_type": "markdown",
      "metadata": {
        "id": "iHXvvHIxaoNc"
      },
      "source": [
        "### **Q3. Qual o tipo de distribuição das variáveis?** "
      ]
    },
    {
      "cell_type": "code",
      "metadata": {
        "id": "q2wWSfeRbmBo",
        "colab": {
          "base_uri": "https://localhost:8080/",
          "height": 607
        },
        "outputId": "f29beb86-8205-45f1-fe84-2dd1f6cae8e9"
      },
      "source": [
        "# plotar o histograma das variáveis numéricas\n",
        "df.hist(bins=15, figsize=(15,10));"
      ],
      "execution_count": null,
      "outputs": [
        {
          "output_type": "display_data",
          "data": {
            "text/plain": [
              "<Figure size 1080x720 with 12 Axes>"
            ],
            "image/png": "[encoded data removed]"
          },
          "metadata": {
            "needs_background": "light"
          }
        }
      ]
    },
    {
      "cell_type": "markdown",
      "source": [
        "Verificação de possíveis outliers nas dados do *price e *minimum_nights pois o histograma nos mostra uma variação muito grande de valores, assim podendo impactar os dados da análise. Na tabela abaixo podemos analisar melhor estas variações."
      ],
      "metadata": {
        "id": "BP7bHg_qZxaj"
      }
    },
    {
      "cell_type": "code",
      "source": [
        "df[['price', 'minimum_nights', 'reviews_per_month', 'number_of_reviews']].describe()"
      ],
      "metadata": {
        "colab": {
          "base_uri": "https://localhost:8080/",
          "height": 300
        },
        "id": "f9ZyBTXqZ2VE",
        "outputId": "09512982-64e6-47e9-dda8-d14f26407f11"
      },
      "execution_count": null,
      "outputs": [
        {
          "output_type": "execute_result",
          "data": {
            "text/plain": [
              "              price  minimum_nights  reviews_per_month  number_of_reviews\n",
              "count  28580.000000    28580.000000       23041.000000       28580.000000\n",
              "mean     476.107558        8.595311           1.271445          32.411127\n",
              "std     1304.712077       25.744771           1.391117          59.443697\n",
              "min        0.000000        1.000000           0.010000           0.000000\n",
              "25%      167.000000        1.000000           0.310000           1.000000\n",
              "50%      266.000000        3.000000           0.810000           9.000000\n",
              "75%      432.000000        5.000000           1.810000          36.000000\n",
              "max    26774.000000     1000.000000          44.350000        1025.000000"
            ],
            "text/html": [
              "\n",
              "  <div id=\"df-94ccf6cb-531e-4af1-9342-cb99eb2cb6e4\">\n",
              "    <div class=\"colab-df-container\">\n",
              "      <div>\n",
              "<style scoped>\n",
              "    .dataframe tbody tr th:only-of-type {\n",
              "        vertical-align: middle;\n",
              "    }\n",
              "\n",
              "    .dataframe tbody tr th {\n",
              "        vertical-align: top;\n",
              "    }\n",
              "\n",
              "    .dataframe thead th {\n",
              "        text-align: right;\n",
              "    }\n",
              "</style>\n",
              "<table border=\"1\" class=\"dataframe\">\n",
              "  <thead>\n",
              "    <tr style=\"text-align: right;\">\n",
              "      <th></th>\n",
              "      <th>price</th>\n",
              "      <th>minimum_nights</th>\n",
              "      <th>reviews_per_month</th>\n",
              "      <th>number_of_reviews</th>\n",
              "    </tr>\n",
              "  </thead>\n",
              "  <tbody>\n",
              "    <tr>\n",
              "      <th>count</th>\n",
              "      <td>28580.000000</td>\n",
              "      <td>28580.000000</td>\n",
              "      <td>23041.000000</td>\n",
              "      <td>28580.000000</td>\n",
              "    </tr>\n",
              "    <tr>\n",
              "      <th>mean</th>\n",
              "      <td>476.107558</td>\n",
              "      <td>8.595311</td>\n",
              "      <td>1.271445</td>\n",
              "      <td>32.411127</td>\n",
              "    </tr>\n",
              "    <tr>\n",
              "      <th>std</th>\n",
              "      <td>1304.712077</td>\n",
              "      <td>25.744771</td>\n",
              "      <td>1.391117</td>\n",
              "      <td>59.443697</td>\n",
              "    </tr>\n",
              "    <tr>\n",
              "      <th>min</th>\n",
              "      <td>0.000000</td>\n",
              "      <td>1.000000</td>\n",
              "      <td>0.010000</td>\n",
              "      <td>0.000000</td>\n",
              "    </tr>\n",
              "    <tr>\n",
              "      <th>25%</th>\n",
              "      <td>167.000000</td>\n",
              "      <td>1.000000</td>\n",
              "      <td>0.310000</td>\n",
              "      <td>1.000000</td>\n",
              "    </tr>\n",
              "    <tr>\n",
              "      <th>50%</th>\n",
              "      <td>266.000000</td>\n",
              "      <td>3.000000</td>\n",
              "      <td>0.810000</td>\n",
              "      <td>9.000000</td>\n",
              "    </tr>\n",
              "    <tr>\n",
              "      <th>75%</th>\n",
              "      <td>432.000000</td>\n",
              "      <td>5.000000</td>\n",
              "      <td>1.810000</td>\n",
              "      <td>36.000000</td>\n",
              "    </tr>\n",
              "    <tr>\n",
              "      <th>max</th>\n",
              "      <td>26774.000000</td>\n",
              "      <td>1000.000000</td>\n",
              "      <td>44.350000</td>\n",
              "      <td>1025.000000</td>\n",
              "    </tr>\n",
              "  </tbody>\n",
              "</table>\n",
              "</div>\n",
              "      <button class=\"colab-df-convert\" onclick=\"convertToInteractive('df-94ccf6cb-531e-4af1-9342-cb99eb2cb6e4')\"\n",
              "              title=\"Convert this dataframe to an interactive table.\"\n",
              "              style=\"display:none;\">\n",
              "        \n",
              "  <svg xmlns=\"http://www.w3.org/2000/svg\" height=\"24px\"viewBox=\"0 0 24 24\"\n",
              "       width=\"24px\">\n",
              "    <path d=\"M0 0h24v24H0V0z\" fill=\"none\"/>\n",
              "    <path d=\"M18.56 5.44l.94 2.06.94-2.06 2.06-.94-2.06-.94-.94-2.06-.94 2.06-2.06.94zm-11 1L8.5 8.5l.94-2.06 2.06-.94-2.06-.94L8.5 2.5l-.94 2.06-2.06.94zm10 10l.94 2.06.94-2.06 2.06-.94-2.06-.94-.94-2.06-.94 2.06-2.06.94z\"/><path d=\"M17.41 7.96l-1.37-1.37c-.4-.4-.92-.59-1.43-.59-.52 0-1.04.2-1.43.59L10.3 9.45l-7.72 7.72c-.78.78-.78 2.05 0 2.83L4 21.41c.39.39.9.59 1.41.59.51 0 1.02-.2 1.41-.59l7.78-7.78 2.81-2.81c.8-.78.8-2.07 0-2.86zM5.41 20L4 18.59l7.72-7.72 1.47 1.35L5.41 20z\"/>\n",
              "  </svg>\n",
              "      </button>\n",
              "      \n",
              "  <style>\n",
              "    .colab-df-container {\n",
              "      display:flex;\n",
              "      flex-wrap:wrap;\n",
              "      gap: 12px;\n",
              "    }\n",
              "\n",
              "    .colab-df-convert {\n",
              "      background-color: #E8F0FE;\n",
              "      border: none;\n",
              "      border-radius: 50%;\n",
              "      cursor: pointer;\n",
              "      display: none;\n",
              "      fill: #1967D2;\n",
              "      height: 32px;\n",
              "      padding: 0 0 0 0;\n",
              "      width: 32px;\n",
              "    }\n",
              "\n",
              "    .colab-df-convert:hover {\n",
              "      background-color: #E2EBFA;\n",
              "      box-shadow: 0px 1px 2px rgba(60, 64, 67, 0.3), 0px 1px 3px 1px rgba(60, 64, 67, 0.15);\n",
              "      fill: #174EA6;\n",
              "    }\n",
              "\n",
              "    [theme=dark] .colab-df-convert {\n",
              "      background-color: #3B4455;\n",
              "      fill: #D2E3FC;\n",
              "    }\n",
              "\n",
              "    [theme=dark] .colab-df-convert:hover {\n",
              "      background-color: #434B5C;\n",
              "      box-shadow: 0px 1px 3px 1px rgba(0, 0, 0, 0.15);\n",
              "      filter: drop-shadow(0px 1px 2px rgba(0, 0, 0, 0.3));\n",
              "      fill: #FFFFFF;\n",
              "    }\n",
              "  </style>\n",
              "\n",
              "      <script>\n",
              "        const buttonEl =\n",
              "          document.querySelector('#df-94ccf6cb-531e-4af1-9342-cb99eb2cb6e4 button.colab-df-convert');\n",
              "        buttonEl.style.display =\n",
              "          google.colab.kernel.accessAllowed ? 'block' : 'none';\n",
              "\n",
              "        async function convertToInteractive(key) {\n",
              "          const element = document.querySelector('#df-94ccf6cb-531e-4af1-9342-cb99eb2cb6e4');\n",
              "          const dataTable =\n",
              "            await google.colab.kernel.invokeFunction('convertToInteractive',\n",
              "                                                     [key], {});\n",
              "          if (!dataTable) return;\n",
              "\n",
              "          const docLinkHtml = 'Like what you see? Visit the ' +\n",
              "            '<a target=\"_blank\" href=https://colab.research.google.com/notebooks/data_table.ipynb>data table notebook</a>'\n",
              "            + ' to learn more about interactive tables.';\n",
              "          element.innerHTML = '';\n",
              "          dataTable['output_type'] = 'display_data';\n",
              "          await google.colab.output.renderOutput(dataTable, element);\n",
              "          const docLink = document.createElement('div');\n",
              "          docLink.innerHTML = docLinkHtml;\n",
              "          element.appendChild(docLink);\n",
              "        }\n",
              "      </script>\n",
              "    </div>\n",
              "  </div>\n",
              "  "
            ]
          },
          "metadata": {},
          "execution_count": 30
        }
      ]
    },
    {
      "cell_type": "markdown",
      "source": [
        "#### **Boxplot do price e minimum_nights para verificação de outliers**"
      ],
      "metadata": {
        "id": "uNGfHBerftm4"
      }
    },
    {
      "cell_type": "markdown",
      "source": [
        "De acordo com uma pesquisa feita no site do próprio Airbnb ficou constatado que a grande maioria das locações nas 3 ilhas fica abaixo do valor de 5000. Normalmente os locais que ultrapassam o valor estipulado nesta análise são representadas por propriedades de luxos que na maioria das vezes são utilizadas por um número maior de pessoas. Na pesquisa foram utilizadas 3 noites, conforme 50% dos dados que pode ser visto na tabela anterior e hospedagem para 2 adultos. \n",
        " \n",
        "Podemos verificar a confirmação desta informação com o Bloxplot a seguir, onde demonstra que entradas acima de 5000, representam menos de 1% dos dados. "
      ],
      "metadata": {
        "id": "Atjnh7IEfA6B"
      }
    },
    {
      "cell_type": "code",
      "source": [
        "df.price.plot(kind='box', vert = False, figsize=(15,3))\n",
        "plt.show()\n",
        "\n",
        "print('Price: Acima de 5000')\n",
        "print(\"{} Número de entradas\".format(len(df[df.price > 5000])))\n",
        "print(\"{:.4f}%\".format(len(df[df.price > 5000])/ df.shape[0]*100))"
      ],
      "metadata": {
        "colab": {
          "base_uri": "https://localhost:8080/",
          "height": 266
        },
        "id": "J8no5if1bWCV",
        "outputId": "e072cdbb-0cd5-40b1-fcee-0ac872029c32"
      },
      "execution_count": null,
      "outputs": [
        {
          "output_type": "display_data",
          "data": {
            "text/plain": [
              "<Figure size 1080x216 with 1 Axes>"
            ],
            "image/png": "[encoded data removed]"
          },
          "metadata": {
            "needs_background": "light"
          }
        },
        {
          "output_type": "stream",
          "name": "stdout",
          "text": [
            "Price: Acima de 5000\n",
            "190 Número de entradas\n",
            "0.6648%\n"
          ]
        }
      ]
    },
    {
      "cell_type": "markdown",
      "source": [
        "Constatei que no site do Airbnb há uma diferença de resultados de propriedades dependendo da forma como é pesquisado, quando você pesquisa de 1 a 28 dias temos a locação e valores calculados como noite. Mas feita uma pesquisa de por exemplo do dia 1º a 29º dia a cobrança é alterada para aluguel mensal, fazendo assim ocorrer uma mudança substancial nas imóveis disponíveis. \n",
        " \n",
        "Podemos compreender um pouco deste cenário pelo seguinte fato, o Hawai é um local onde anualmente há temporadas de surf combinada com a temporada de férias, fazendo assim aumentar a circulação de turista, por conta disso, é comum em determinadas épocas do ano aumentar a quantidade de aluguel voltados locação a mensal (temporada). Normalmente é uma característica vista em uma parte dos litorais brasileiros, onde as pessoas buscam o aluguel por temporada.  \n",
        " \n",
        "Se analisar no gráfico a seguir, é possível notar a diferença de mais de 6% na quantidade de imóveis disponíveis de 28 para 30 dias. Grande parte dos anunciantes focam em aluguéis por noite, mas há um considerável número de imóveis que buscam o aluguel mensal ou até com prazo de dias maiores.\n"
      ],
      "metadata": {
        "id": "Ltqye-d5ghCf"
      }
    },
    {
      "cell_type": "code",
      "source": [
        "\n",
        "df.minimum_nights.plot(kind='box', vert = False, figsize=(15,3))\n",
        "plt.show()\n",
        "\n",
        "print('\\033[1m' 'Noites minimas 28 dias = preço diário' '\\033[0m')\n",
        "print('minimum_nights acima de: 28')\n",
        "print(\"{} Número de entradas\".format(len(df[df.minimum_nights > 28])))\n",
        "print(\"{:.4f}%\".format(len(df[df.minimum_nights > 28])/ df.shape[0]*100))\n",
        "\n",
        "print('\\033[1m'\"Noites minimas 30 dias = preço mensal\"'\\033[0m')\n",
        "print('minimum_nights acima de: 30')\n",
        "print(\"{} Número de entradas\".format(len(df[df.minimum_nights > 30])))\n",
        "print(\"{:.4f}%\".format(len(df[df.minimum_nights > 30])/ df.shape[0]*100))"
      ],
      "metadata": {
        "colab": {
          "base_uri": "https://localhost:8080/",
          "height": 359
        },
        "id": "fa-jjEUQfzo2",
        "outputId": "e9ae97a4-e553-426a-d34b-4c37ef7533b8"
      },
      "execution_count": null,
      "outputs": [
        {
          "output_type": "display_data",
          "data": {
            "text/plain": [
              "<Figure size 1080x216 with 1 Axes>"
            ],
            "image/png": "[encoded data removed]"
          },
          "metadata": {
            "needs_background": "light"
          }
        },
        {
          "output_type": "stream",
          "name": "stdout",
          "text": [
            "\u001b[1mNoites minimas 28 dias = preço diário\u001b[0m\n",
            "minimum_nights acima de: 28\n",
            "2758 Número de entradas\n",
            "9.6501%\n",
            "\u001b[1mNoites minimas 30 dias = preço mensal\u001b[0m\n",
            "minimum_nights acima de: 30\n",
            "799 Número de entradas\n",
            "2.7957%\n"
          ]
        }
      ]
    },
    {
      "cell_type": "markdown",
      "source": [
        "####**Boxplot removendo os Outliers**"
      ],
      "metadata": {
        "id": "wpmA2B_Vlz7C"
      }
    },
    {
      "cell_type": "markdown",
      "source": [
        "\n",
        "Neste novo histograma, após a remoção dos outliers, podemos verificar que os preços ficaram mais condizentes com a realidade do local.\n",
        " \n",
        "Quanto a análise dos dados da coluna minimum_nights, fica clara a análise feita no boxplot anterior, demonstrando que há um aumento substâncial de imóveis disponíveis quando consideramos o aluguel no prazo de 30 dias, podemos observar que temos um volume pequeno entre 8 a 28 dias e maior concentração locações até 7 dias. "
      ],
      "metadata": {
        "id": "A1nApXnrojwq"
      }
    },
    {
      "cell_type": "code",
      "source": [
        "#Removendo os outlies conforme a análise anterior:\n",
        "df_clean = df.copy()\n",
        "df_clean.drop(df_clean[df_clean.price > 5000].index, axis=0, inplace=True)\n",
        "df_clean.drop(df_clean[df_clean.minimum_nights > 30].index, axis=0, inplace=True)\n",
        "\n",
        "#Plotando histograma para verificar os dados após outliers:\n",
        "df_clean.hist(bins=15, figsize=(15,10));"
      ],
      "metadata": {
        "colab": {
          "base_uri": "https://localhost:8080/",
          "height": 607
        },
        "id": "o_kltZCOl2F9",
        "outputId": "bcc879f4-5abc-4806-af2b-26965fd6893e"
      },
      "execution_count": null,
      "outputs": [
        {
          "output_type": "display_data",
          "data": {
            "text/plain": [
              "<Figure size 1080x720 with 12 Axes>"
            ],
            "image/png": "[encoded data removed]"
          },
          "metadata": {
            "needs_background": "light"
          }
        }
      ]
    },
    {
      "cell_type": "code",
      "source": [
        "df_clean[['price', 'minimum_nights', 'reviews_per_month', 'number_of_reviews']].describe()"
      ],
      "metadata": {
        "colab": {
          "base_uri": "https://localhost:8080/",
          "height": 300
        },
        "id": "Te-U4QmL6bPy",
        "outputId": "c6fc1d16-ade8-4006-f85f-90e73ce53d02"
      },
      "execution_count": null,
      "outputs": [
        {
          "output_type": "execute_result",
          "data": {
            "text/plain": [
              "              price  minimum_nights  reviews_per_month  number_of_reviews\n",
              "count  27594.000000    27594.000000       22443.000000       27594.000000\n",
              "mean     389.719287        4.847902           1.291960          33.115859\n",
              "std      449.398569        7.261846           1.400833          60.137325\n",
              "min        0.000000        1.000000           0.010000           0.000000\n",
              "25%      168.000000        1.000000           0.330000           1.000000\n",
              "50%      265.000000        3.000000           0.830000           9.000000\n",
              "75%      425.000000        5.000000           1.840000          37.000000\n",
              "max     5000.000000       30.000000          44.350000        1025.000000"
            ],
            "text/html": [
              "\n",
              "  <div id=\"df-4a2d0c72-f660-44a8-a681-a63c9573b49a\">\n",
              "    <div class=\"colab-df-container\">\n",
              "      <div>\n",
              "<style scoped>\n",
              "    .dataframe tbody tr th:only-of-type {\n",
              "        vertical-align: middle;\n",
              "    }\n",
              "\n",
              "    .dataframe tbody tr th {\n",
              "        vertical-align: top;\n",
              "    }\n",
              "\n",
              "    .dataframe thead th {\n",
              "        text-align: right;\n",
              "    }\n",
              "</style>\n",
              "<table border=\"1\" class=\"dataframe\">\n",
              "  <thead>\n",
              "    <tr style=\"text-align: right;\">\n",
              "      <th></th>\n",
              "      <th>price</th>\n",
              "      <th>minimum_nights</th>\n",
              "      <th>reviews_per_month</th>\n",
              "      <th>number_of_reviews</th>\n",
              "    </tr>\n",
              "  </thead>\n",
              "  <tbody>\n",
              "    <tr>\n",
              "      <th>count</th>\n",
              "      <td>27594.000000</td>\n",
              "      <td>27594.000000</td>\n",
              "      <td>22443.000000</td>\n",
              "      <td>27594.000000</td>\n",
              "    </tr>\n",
              "    <tr>\n",
              "      <th>mean</th>\n",
              "      <td>389.719287</td>\n",
              "      <td>4.847902</td>\n",
              "      <td>1.291960</td>\n",
              "      <td>33.115859</td>\n",
              "    </tr>\n",
              "    <tr>\n",
              "      <th>std</th>\n",
              "      <td>449.398569</td>\n",
              "      <td>7.261846</td>\n",
              "      <td>1.400833</td>\n",
              "      <td>60.137325</td>\n",
              "    </tr>\n",
              "    <tr>\n",
              "      <th>min</th>\n",
              "      <td>0.000000</td>\n",
              "      <td>1.000000</td>\n",
              "      <td>0.010000</td>\n",
              "      <td>0.000000</td>\n",
              "    </tr>\n",
              "    <tr>\n",
              "      <th>25%</th>\n",
              "      <td>168.000000</td>\n",
              "      <td>1.000000</td>\n",
              "      <td>0.330000</td>\n",
              "      <td>1.000000</td>\n",
              "    </tr>\n",
              "    <tr>\n",
              "      <th>50%</th>\n",
              "      <td>265.000000</td>\n",
              "      <td>3.000000</td>\n",
              "      <td>0.830000</td>\n",
              "      <td>9.000000</td>\n",
              "    </tr>\n",
              "    <tr>\n",
              "      <th>75%</th>\n",
              "      <td>425.000000</td>\n",
              "      <td>5.000000</td>\n",
              "      <td>1.840000</td>\n",
              "      <td>37.000000</td>\n",
              "    </tr>\n",
              "    <tr>\n",
              "      <th>max</th>\n",
              "      <td>5000.000000</td>\n",
              "      <td>30.000000</td>\n",
              "      <td>44.350000</td>\n",
              "      <td>1025.000000</td>\n",
              "    </tr>\n",
              "  </tbody>\n",
              "</table>\n",
              "</div>\n",
              "      <button class=\"colab-df-convert\" onclick=\"convertToInteractive('df-4a2d0c72-f660-44a8-a681-a63c9573b49a')\"\n",
              "              title=\"Convert this dataframe to an interactive table.\"\n",
              "              style=\"display:none;\">\n",
              "        \n",
              "  <svg xmlns=\"http://www.w3.org/2000/svg\" height=\"24px\"viewBox=\"0 0 24 24\"\n",
              "       width=\"24px\">\n",
              "    <path d=\"M0 0h24v24H0V0z\" fill=\"none\"/>\n",
              "    <path d=\"M18.56 5.44l.94 2.06.94-2.06 2.06-.94-2.06-.94-.94-2.06-.94 2.06-2.06.94zm-11 1L8.5 8.5l.94-2.06 2.06-.94-2.06-.94L8.5 2.5l-.94 2.06-2.06.94zm10 10l.94 2.06.94-2.06 2.06-.94-2.06-.94-.94-2.06-.94 2.06-2.06.94z\"/><path d=\"M17.41 7.96l-1.37-1.37c-.4-.4-.92-.59-1.43-.59-.52 0-1.04.2-1.43.59L10.3 9.45l-7.72 7.72c-.78.78-.78 2.05 0 2.83L4 21.41c.39.39.9.59 1.41.59.51 0 1.02-.2 1.41-.59l7.78-7.78 2.81-2.81c.8-.78.8-2.07 0-2.86zM5.41 20L4 18.59l7.72-7.72 1.47 1.35L5.41 20z\"/>\n",
              "  </svg>\n",
              "      </button>\n",
              "      \n",
              "  <style>\n",
              "    .colab-df-container {\n",
              "      display:flex;\n",
              "      flex-wrap:wrap;\n",
              "      gap: 12px;\n",
              "    }\n",
              "\n",
              "    .colab-df-convert {\n",
              "      background-color: #E8F0FE;\n",
              "      border: none;\n",
              "      border-radius: 50%;\n",
              "      cursor: pointer;\n",
              "      display: none;\n",
              "      fill: #1967D2;\n",
              "      height: 32px;\n",
              "      padding: 0 0 0 0;\n",
              "      width: 32px;\n",
              "    }\n",
              "\n",
              "    .colab-df-convert:hover {\n",
              "      background-color: #E2EBFA;\n",
              "      box-shadow: 0px 1px 2px rgba(60, 64, 67, 0.3), 0px 1px 3px 1px rgba(60, 64, 67, 0.15);\n",
              "      fill: #174EA6;\n",
              "    }\n",
              "\n",
              "    [theme=dark] .colab-df-convert {\n",
              "      background-color: #3B4455;\n",
              "      fill: #D2E3FC;\n",
              "    }\n",
              "\n",
              "    [theme=dark] .colab-df-convert:hover {\n",
              "      background-color: #434B5C;\n",
              "      box-shadow: 0px 1px 3px 1px rgba(0, 0, 0, 0.15);\n",
              "      filter: drop-shadow(0px 1px 2px rgba(0, 0, 0, 0.3));\n",
              "      fill: #FFFFFF;\n",
              "    }\n",
              "  </style>\n",
              "\n",
              "      <script>\n",
              "        const buttonEl =\n",
              "          document.querySelector('#df-4a2d0c72-f660-44a8-a681-a63c9573b49a button.colab-df-convert');\n",
              "        buttonEl.style.display =\n",
              "          google.colab.kernel.accessAllowed ? 'block' : 'none';\n",
              "\n",
              "        async function convertToInteractive(key) {\n",
              "          const element = document.querySelector('#df-4a2d0c72-f660-44a8-a681-a63c9573b49a');\n",
              "          const dataTable =\n",
              "            await google.colab.kernel.invokeFunction('convertToInteractive',\n",
              "                                                     [key], {});\n",
              "          if (!dataTable) return;\n",
              "\n",
              "          const docLinkHtml = 'Like what you see? Visit the ' +\n",
              "            '<a target=\"_blank\" href=https://colab.research.google.com/notebooks/data_table.ipynb>data table notebook</a>'\n",
              "            + ' to learn more about interactive tables.';\n",
              "          element.innerHTML = '';\n",
              "          dataTable['output_type'] = 'display_data';\n",
              "          await google.colab.output.renderOutput(dataTable, element);\n",
              "          const docLink = document.createElement('div');\n",
              "          docLink.innerHTML = docLinkHtml;\n",
              "          element.appendChild(docLink);\n",
              "        }\n",
              "      </script>\n",
              "    </div>\n",
              "  </div>\n",
              "  "
            ]
          },
          "metadata": {},
          "execution_count": 34
        }
      ]
    },
    {
      "cell_type": "markdown",
      "source": [
        "No quadro acima vemos como as médias e máximas ficam mais próximas à realidade após a eliminação dos outliers."
      ],
      "metadata": {
        "id": "jdBLE3I0OydU"
      }
    },
    {
      "cell_type": "markdown",
      "metadata": {
        "id": "7x4aw1j5wNmn"
      },
      "source": [
        "### **Q4. Qual a média dos preços de aluguel?**"
      ]
    },
    {
      "cell_type": "code",
      "metadata": {
        "id": "ff-8gUahLk-C",
        "colab": {
          "base_uri": "https://localhost:8080/"
        },
        "outputId": "583eff51-1a58-43b8-b703-5108c1d9fe0b"
      },
      "source": [
        "# ver a média da coluna `price``\n",
        "print('Média de Preços com Outlier:', df.price.mean())\n",
        "print('Média de Preços sem Outlier:', df_clean.price.mean())"
      ],
      "execution_count": null,
      "outputs": [
        {
          "output_type": "stream",
          "name": "stdout",
          "text": [
            "Média de Preços com Outlier: 476.1075577326802\n",
            "Média de Preços sem Outlier: 389.7192868014786\n"
          ]
        }
      ]
    },
    {
      "cell_type": "markdown",
      "metadata": {
        "id": "IXn2oIo5qx-w"
      },
      "source": [
        "### **Q4. Qual a correlação existente entre as variáveis**"
      ]
    },
    {
      "cell_type": "code",
      "metadata": {
        "id": "x2ayzBajqxyd",
        "colab": {
          "base_uri": "https://localhost:8080/",
          "height": 237
        },
        "outputId": "37c3b025-d674-497e-cdac-f5e5b2adcdfd"
      },
      "source": [
        "# criar uma matriz de correlação\n",
        "# mostrar a matriz de correlação\n",
        "\n",
        "corr = df_clean [['price', 'minimum_nights', 'number_of_reviews', 'reviews_per_month', 'number_of_reviews_ltm', 'availability_365']].corr()\n",
        "display(corr)\n"
      ],
      "execution_count": null,
      "outputs": [
        {
          "output_type": "display_data",
          "data": {
            "text/plain": [
              "                          price  minimum_nights  number_of_reviews  \\\n",
              "price                  1.000000       -0.082610          -0.191649   \n",
              "minimum_nights        -0.082610        1.000000          -0.068041   \n",
              "number_of_reviews     -0.191649       -0.068041           1.000000   \n",
              "reviews_per_month     -0.222787       -0.191798           0.578846   \n",
              "number_of_reviews_ltm -0.219422       -0.181256           0.766879   \n",
              "availability_365       0.020146       -0.037687           0.012074   \n",
              "\n",
              "                       reviews_per_month  number_of_reviews_ltm  \\\n",
              "price                          -0.222787              -0.219422   \n",
              "minimum_nights                 -0.191798              -0.181256   \n",
              "number_of_reviews               0.578846               0.766879   \n",
              "reviews_per_month               1.000000               0.816809   \n",
              "number_of_reviews_ltm           0.816809               1.000000   \n",
              "availability_365                0.020206               0.029057   \n",
              "\n",
              "                       availability_365  \n",
              "price                          0.020146  \n",
              "minimum_nights                -0.037687  \n",
              "number_of_reviews              0.012074  \n",
              "reviews_per_month              0.020206  \n",
              "number_of_reviews_ltm          0.029057  \n",
              "availability_365               1.000000  "
            ],
            "text/html": [
              "\n",
              "  <div id=\"df-ccc2cc85-e196-46f1-aefc-ee62ece05f90\">\n",
              "    <div class=\"colab-df-container\">\n",
              "      <div>\n",
              "<style scoped>\n",
              "    .dataframe tbody tr th:only-of-type {\n",
              "        vertical-align: middle;\n",
              "    }\n",
              "\n",
              "    .dataframe tbody tr th {\n",
              "        vertical-align: top;\n",
              "    }\n",
              "\n",
              "    .dataframe thead th {\n",
              "        text-align: right;\n",
              "    }\n",
              "</style>\n",
              "<table border=\"1\" class=\"dataframe\">\n",
              "  <thead>\n",
              "    <tr style=\"text-align: right;\">\n",
              "      <th></th>\n",
              "      <th>price</th>\n",
              "      <th>minimum_nights</th>\n",
              "      <th>number_of_reviews</th>\n",
              "      <th>reviews_per_month</th>\n",
              "      <th>number_of_reviews_ltm</th>\n",
              "      <th>availability_365</th>\n",
              "    </tr>\n",
              "  </thead>\n",
              "  <tbody>\n",
              "    <tr>\n",
              "      <th>price</th>\n",
              "      <td>1.000000</td>\n",
              "      <td>-0.082610</td>\n",
              "      <td>-0.191649</td>\n",
              "      <td>-0.222787</td>\n",
              "      <td>-0.219422</td>\n",
              "      <td>0.020146</td>\n",
              "    </tr>\n",
              "    <tr>\n",
              "      <th>minimum_nights</th>\n",
              "      <td>-0.082610</td>\n",
              "      <td>1.000000</td>\n",
              "      <td>-0.068041</td>\n",
              "      <td>-0.191798</td>\n",
              "      <td>-0.181256</td>\n",
              "      <td>-0.037687</td>\n",
              "    </tr>\n",
              "    <tr>\n",
              "      <th>number_of_reviews</th>\n",
              "      <td>-0.191649</td>\n",
              "      <td>-0.068041</td>\n",
              "      <td>1.000000</td>\n",
              "      <td>0.578846</td>\n",
              "      <td>0.766879</td>\n",
              "      <td>0.012074</td>\n",
              "    </tr>\n",
              "    <tr>\n",
              "      <th>reviews_per_month</th>\n",
              "      <td>-0.222787</td>\n",
              "      <td>-0.191798</td>\n",
              "      <td>0.578846</td>\n",
              "      <td>1.000000</td>\n",
              "      <td>0.816809</td>\n",
              "      <td>0.020206</td>\n",
              "    </tr>\n",
              "    <tr>\n",
              "      <th>number_of_reviews_ltm</th>\n",
              "      <td>-0.219422</td>\n",
              "      <td>-0.181256</td>\n",
              "      <td>0.766879</td>\n",
              "      <td>0.816809</td>\n",
              "      <td>1.000000</td>\n",
              "      <td>0.029057</td>\n",
              "    </tr>\n",
              "    <tr>\n",
              "      <th>availability_365</th>\n",
              "      <td>0.020146</td>\n",
              "      <td>-0.037687</td>\n",
              "      <td>0.012074</td>\n",
              "      <td>0.020206</td>\n",
              "      <td>0.029057</td>\n",
              "      <td>1.000000</td>\n",
              "    </tr>\n",
              "  </tbody>\n",
              "</table>\n",
              "</div>\n",
              "      <button class=\"colab-df-convert\" onclick=\"convertToInteractive('df-ccc2cc85-e196-46f1-aefc-ee62ece05f90')\"\n",
              "              title=\"Convert this dataframe to an interactive table.\"\n",
              "              style=\"display:none;\">\n",
              "        \n",
              "  <svg xmlns=\"http://www.w3.org/2000/svg\" height=\"24px\"viewBox=\"0 0 24 24\"\n",
              "       width=\"24px\">\n",
              "    <path d=\"M0 0h24v24H0V0z\" fill=\"none\"/>\n",
              "    <path d=\"M18.56 5.44l.94 2.06.94-2.06 2.06-.94-2.06-.94-.94-2.06-.94 2.06-2.06.94zm-11 1L8.5 8.5l.94-2.06 2.06-.94-2.06-.94L8.5 2.5l-.94 2.06-2.06.94zm10 10l.94 2.06.94-2.06 2.06-.94-2.06-.94-.94-2.06-.94 2.06-2.06.94z\"/><path d=\"M17.41 7.96l-1.37-1.37c-.4-.4-.92-.59-1.43-.59-.52 0-1.04.2-1.43.59L10.3 9.45l-7.72 7.72c-.78.78-.78 2.05 0 2.83L4 21.41c.39.39.9.59 1.41.59.51 0 1.02-.2 1.41-.59l7.78-7.78 2.81-2.81c.8-.78.8-2.07 0-2.86zM5.41 20L4 18.59l7.72-7.72 1.47 1.35L5.41 20z\"/>\n",
              "  </svg>\n",
              "      </button>\n",
              "      \n",
              "  <style>\n",
              "    .colab-df-container {\n",
              "      display:flex;\n",
              "      flex-wrap:wrap;\n",
              "      gap: 12px;\n",
              "    }\n",
              "\n",
              "    .colab-df-convert {\n",
              "      background-color: #E8F0FE;\n",
              "      border: none;\n",
              "      border-radius: 50%;\n",
              "      cursor: pointer;\n",
              "      display: none;\n",
              "      fill: #1967D2;\n",
              "      height: 32px;\n",
              "      padding: 0 0 0 0;\n",
              "      width: 32px;\n",
              "    }\n",
              "\n",
              "    .colab-df-convert:hover {\n",
              "      background-color: #E2EBFA;\n",
              "      box-shadow: 0px 1px 2px rgba(60, 64, 67, 0.3), 0px 1px 3px 1px rgba(60, 64, 67, 0.15);\n",
              "      fill: #174EA6;\n",
              "    }\n",
              "\n",
              "    [theme=dark] .colab-df-convert {\n",
              "      background-color: #3B4455;\n",
              "      fill: #D2E3FC;\n",
              "    }\n",
              "\n",
              "    [theme=dark] .colab-df-convert:hover {\n",
              "      background-color: #434B5C;\n",
              "      box-shadow: 0px 1px 3px 1px rgba(0, 0, 0, 0.15);\n",
              "      filter: drop-shadow(0px 1px 2px rgba(0, 0, 0, 0.3));\n",
              "      fill: #FFFFFF;\n",
              "    }\n",
              "  </style>\n",
              "\n",
              "      <script>\n",
              "        const buttonEl =\n",
              "          document.querySelector('#df-ccc2cc85-e196-46f1-aefc-ee62ece05f90 button.colab-df-convert');\n",
              "        buttonEl.style.display =\n",
              "          google.colab.kernel.accessAllowed ? 'block' : 'none';\n",
              "\n",
              "        async function convertToInteractive(key) {\n",
              "          const element = document.querySelector('#df-ccc2cc85-e196-46f1-aefc-ee62ece05f90');\n",
              "          const dataTable =\n",
              "            await google.colab.kernel.invokeFunction('convertToInteractive',\n",
              "                                                     [key], {});\n",
              "          if (!dataTable) return;\n",
              "\n",
              "          const docLinkHtml = 'Like what you see? Visit the ' +\n",
              "            '<a target=\"_blank\" href=https://colab.research.google.com/notebooks/data_table.ipynb>data table notebook</a>'\n",
              "            + ' to learn more about interactive tables.';\n",
              "          element.innerHTML = '';\n",
              "          dataTable['output_type'] = 'display_data';\n",
              "          await google.colab.output.renderOutput(dataTable, element);\n",
              "          const docLink = document.createElement('div');\n",
              "          docLink.innerHTML = docLinkHtml;\n",
              "          element.appendChild(docLink);\n",
              "        }\n",
              "      </script>\n",
              "    </div>\n",
              "  </div>\n",
              "  "
            ]
          },
          "metadata": {}
        }
      ]
    },
    {
      "cell_type": "code",
      "metadata": {
        "id": "91UujDr6ueqE",
        "colab": {
          "base_uri": "https://localhost:8080/",
          "height": 377
        },
        "outputId": "84fbfacd-7dd4-4042-9b15-60273e6698fc"
      },
      "source": [
        "# plotar um heatmap a partir das correlações\n",
        "sns.heatmap(corr, cmap='RdBu', fmt='.2f', square=True, linecolor='white', annot=True);"
      ],
      "execution_count": null,
      "outputs": [
        {
          "output_type": "display_data",
          "data": {
            "text/plain": [
              "<Figure size 432x288 with 2 Axes>"
            ],
            "image/png": "[encoded data removed]"
          },
          "metadata": {
            "needs_background": "light"
          }
        }
      ]
    },
    {
      "cell_type": "markdown",
      "metadata": {
        "id": "7b6RMWpuHKN-"
      },
      "source": [
        "### **Q5. Qual o tipo de imóvel mais alugado no Airbnb?**"
      ]
    },
    {
      "cell_type": "markdown",
      "source": [
        "Por ser um local muito procurado para férias há uma diferença de porcentagem de uma casa ou apartamento inteiro para outras acomodações menores. Normalmente estes tipos de lugares são frequentados por famílias e amigos, fazendo assim a procura ser maior por espaços amplos e bem localizados."
      ],
      "metadata": {
        "id": "oBBJhwwYCtUX"
      }
    },
    {
      "cell_type": "code",
      "metadata": {
        "id": "ueLPNWvPHgfB",
        "colab": {
          "base_uri": "https://localhost:8080/"
        },
        "outputId": "bd2fc52a-0e70-42d8-d204-15b40d8b5d4f"
      },
      "source": [
        "# mostrar a quantidade de cada tipo de imóvel disponível\n",
        "df.room_type.value_counts()"
      ],
      "execution_count": null,
      "outputs": [
        {
          "output_type": "execute_result",
          "data": {
            "text/plain": [
              "Entire home/apt    25147\n",
              "Private room        3324\n",
              "Hotel room            73\n",
              "Shared room           36\n",
              "Name: room_type, dtype: int64"
            ]
          },
          "metadata": {},
          "execution_count": 38
        }
      ]
    },
    {
      "cell_type": "code",
      "metadata": {
        "id": "EvwoO-XAHhIm",
        "colab": {
          "base_uri": "https://localhost:8080/"
        },
        "outputId": "30e3b66c-1552-44d6-8f8a-bf54bdb338c0"
      },
      "source": [
        "# mostrar a porcentagem de cada tipo de imóvel disponível\n",
        "df.room_type.value_counts() / df.shape[0]*100"
      ],
      "execution_count": null,
      "outputs": [
        {
          "output_type": "execute_result",
          "data": {
            "text/plain": [
              "Entire home/apt    87.988104\n",
              "Private room       11.630511\n",
              "Hotel room          0.255423\n",
              "Shared room         0.125962\n",
              "Name: room_type, dtype: float64"
            ]
          },
          "metadata": {},
          "execution_count": 39
        }
      ]
    },
    {
      "cell_type": "markdown",
      "source": [
        "#### **neighbourhood_group o maior número de locações**"
      ],
      "metadata": {
        "id": "oDBndYY4_DXb"
      }
    },
    {
      "cell_type": "markdown",
      "source": [
        "O neighbourhood_group é a localização em qual ilha a propriedade está estabelecida, aqui podemos observar em qual ilha tem a maior porcentagem de propriedades para locação. \n"
      ],
      "metadata": {
        "id": "HJG8bPvoAerR"
      }
    },
    {
      "cell_type": "code",
      "source": [
        "# Avaliação do neighbourhood_group\n",
        "\n",
        "print ('Descrição das Ilhas:', df.neighbourhood_group.unique())\n",
        "print ('Porcentagem de Locação por Local:')\n",
        "df.neighbourhood_group.value_counts() / df.shape[0]*100"
      ],
      "metadata": {
        "colab": {
          "base_uri": "https://localhost:8080/"
        },
        "id": "sVS2iYxkcUrl",
        "outputId": "feecc8eb-3cf3-4406-c2a7-b828e671cc7a"
      },
      "execution_count": null,
      "outputs": [
        {
          "output_type": "stream",
          "name": "stdout",
          "text": [
            "Descrição das Ilhas: ['Hawaii' 'Maui' 'Honolulu' 'Kauai']\n",
            "Porcentagem de Locação por Local:\n"
          ]
        },
        {
          "output_type": "execute_result",
          "data": {
            "text/plain": [
              "Maui        31.987404\n",
              "Honolulu    30.272918\n",
              "Hawaii      23.005598\n",
              "Kauai       14.734080\n",
              "Name: neighbourhood_group, dtype: float64"
            ]
          },
          "metadata": {},
          "execution_count": 40
        }
      ]
    },
    {
      "cell_type": "markdown",
      "metadata": {
        "id": "MFa5NbnLJMcd"
      },
      "source": [
        "### **Q6. Qual a localidade mais cara do Hawaii?**\n",
        "\n"
      ]
    },
    {
      "cell_type": "markdown",
      "source": [
        "Nesta seção podemos observar um pouco melhor sobre os preços das ilhas do Hawaii, podemos inclusive observar que elas tem os preços muito próximos. \n",
        "\n",
        "Linhas da análise:\n",
        "\n",
        "neighbourhood_group: vemos o nome da ilha\n",
        "\n",
        "neighbourhood: vemos o bairro e o valor médio das propriedades da mesma."
      ],
      "metadata": {
        "id": "KONZflddARYV"
      }
    },
    {
      "cell_type": "code",
      "metadata": {
        "id": "MD_xa143JZpi",
        "colab": {
          "base_uri": "https://localhost:8080/"
        },
        "outputId": "fc34d277-3d9d-4c24-cb65-44356ab4b84d"
      },
      "source": [
        "# ver preços por bairros, na média\n",
        "df_clean.groupby(['neighbourhood_group','neighbourhood']).price.mean().sort_values(ascending=False)[:10]"
      ],
      "execution_count": null,
      "outputs": [
        {
          "output_type": "execute_result",
          "data": {
            "text/plain": [
              "neighbourhood_group  neighbourhood    \n",
              "Maui                 Lahaina              581.989541\n",
              "Honolulu             East Honolulu        580.574074\n",
              "Kauai                Koloa-Poipu          534.564103\n",
              "Hawaii               South Kohala         498.538026\n",
              "Honolulu             Ewa                  493.013972\n",
              "                     Koolauloa            472.181172\n",
              "                     Koolaupoko           458.883777\n",
              "Kauai                Waimea-Kekaha        455.043478\n",
              "                     Lihue                436.093190\n",
              "                     North Shore Kauai    415.361786\n",
              "Name: price, dtype: float64"
            ]
          },
          "metadata": {},
          "execution_count": 41
        }
      ]
    },
    {
      "cell_type": "code",
      "metadata": {
        "id": "UxVJqJ_3W59I",
        "colab": {
          "base_uri": "https://localhost:8080/",
          "height": 476
        },
        "outputId": "0a5cedd1-1169-4c83-de77-a3e5d6b9e301"
      },
      "source": [
        "# plotar os imóveis pela latitude-longitude\n",
        "df_clean.plot(kind=\"scatter\", x='longitude', y='latitude', alpha=0.4, c=df_clean['price'], s=8,\n",
        "              cmap=plt.get_cmap('jet'), figsize=(12,8));"
      ],
      "execution_count": null,
      "outputs": [
        {
          "output_type": "display_data",
          "data": {
            "text/plain": [
              "<Figure size 864x576 with 2 Axes>"
            ],
            "image/png": "[encoded data removed]"
          },
          "metadata": {
            "needs_background": "light"
          }
        }
      ]
    },
    {
      "cell_type": "markdown",
      "source": [
        "No mapa de calor acima fica claro a distribuição dos imóveis nas ilhas."
      ],
      "metadata": {
        "id": "WH-kE8rwPUE4"
      }
    },
    {
      "cell_type": "markdown",
      "metadata": {
        "id": "vTneAMRUYvr1"
      },
      "source": [
        "### **Q7. Qual é a média do mínimo de noites para aluguel (minimum_nights)?**"
      ]
    },
    {
      "cell_type": "code",
      "metadata": {
        "id": "_VzNhrEgY82N",
        "colab": {
          "base_uri": "https://localhost:8080/"
        },
        "outputId": "84d3475e-da18-4f6d-8f9c-1ec642c87cda"
      },
      "source": [
        "# ver a média da coluna `minimum_nights``\n",
        "print('Média de Preços com Outlier:', df.minimum_nights.mean())\n",
        "print('Média de Preços sem Outlier:', df_clean.minimum_nights.mean())"
      ],
      "execution_count": null,
      "outputs": [
        {
          "output_type": "stream",
          "name": "stdout",
          "text": [
            "Média de Preços com Outlier: 8.595311406578027\n",
            "Média de Preços sem Outlier: 4.847901717764731\n"
          ]
        }
      ]
    },
    {
      "cell_type": "markdown",
      "metadata": {
        "id": "GkvAg623RjoR"
      },
      "source": [
        "## Conclusões\n"
      ]
    },
    {
      "cell_type": "markdown",
      "metadata": {
        "id": "rbZ3Hsy9Ypw8"
      },
      "source": [
        "Podemos concluir com esta análise das ilhas do hawaii que elas têm algumas características próprias, como a diferença de imóveis de acordo com o tempo de aluguel estipulado e como a maioria dos anúncios são de propriedades completas, como o local é impactado pelas temporadas de férias e a forma como os outliers interferem na média dos preços e tempo mínimo de estadia.\n",
        " \n",
        "Primeiramente podemos começar com o entendimento de como funciona o mercado de locação local por meio dos preços e o mínimo de noites, após uma pesquisa e remoção dos outliers ficou claro que a maioria das pessoas buscam ficar de 1 a 7 dias, mas há um nicho representativo de interessados em passar a temporada que normalmente é de 30 dias. Após isso e ainda seguindo a linha das propriedades observamos que mais 85% dos imóveis disponíveis são inteiros, é preciso ter cuidado com este dado pois é uma característica da plataforma fazer a locação de imóveis completos ao invés de quartos de hotéis. \n",
        " \n",
        "Compreendendo isso, podemos observar que o Hawaii é um lugar atípico onde há mais de uma ilha e cada uma com a sua particularidade, temos as ilhas mais frequentadas que são Maui e Honolulu, mas o interessante é que todas as ilhas têm uma taxa bem considerável de anúncios. E quanto vamos observar quais são os preços mais altos destes locais observamos que temos preços parecidos entre todas elas, temos as ilhas mais frequentadas com os preços mais altos, provavelmente pela alta demanda, e temos as ilhas menos frequentadas possivelmente pela escassez ou exclusividade local. Quando olhamos o mapa de calor podemos observar com mais clareza como todas as ilhas têm uma alta demanda de imóveis, principalmente próximo a praia. \n",
        " \n",
        "Por ser um lugar conhecido no mundo todo e muito buscado para as férias e temporadas de surf, as ilhas do Hawaii nos demonstram dados extremamente interessantes de analisar, de como apesar de locais(ilhas) diferentes temos características de preços, imóveis e mínimo de noites parecidos. E de como o tratamento correto dos outliers pode nos demonstrar tendências de mercado e nichos, como os aluguéis mensais. \n",
        "\n"
      ]
    }
  ]
}